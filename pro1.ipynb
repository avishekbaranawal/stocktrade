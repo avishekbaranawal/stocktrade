{
 "cells": [
  {
   "cell_type": "code",
   "execution_count": 19,
   "metadata": {},
   "outputs": [
    {
     "data": {
      "text/html": [
       "<div>\n",
       "<style scoped>\n",
       "    .dataframe tbody tr th:only-of-type {\n",
       "        vertical-align: middle;\n",
       "    }\n",
       "\n",
       "    .dataframe tbody tr th {\n",
       "        vertical-align: top;\n",
       "    }\n",
       "\n",
       "    .dataframe thead th {\n",
       "        text-align: right;\n",
       "    }\n",
       "</style>\n",
       "<table border=\"1\" class=\"dataframe\">\n",
       "  <thead>\n",
       "    <tr style=\"text-align: right;\">\n",
       "      <th></th>\n",
       "    </tr>\n",
       "  </thead>\n",
       "  <tbody>\n",
       "    <tr>\n",
       "      <th>Earnings Date</th>\n",
       "    </tr>\n",
       "    <tr>\n",
       "      <th>Earnings Average</th>\n",
       "    </tr>\n",
       "    <tr>\n",
       "      <th>Earnings Low</th>\n",
       "    </tr>\n",
       "    <tr>\n",
       "      <th>Earnings High</th>\n",
       "    </tr>\n",
       "    <tr>\n",
       "      <th>Revenue Average</th>\n",
       "    </tr>\n",
       "    <tr>\n",
       "      <th>Revenue Low</th>\n",
       "    </tr>\n",
       "    <tr>\n",
       "      <th>Revenue High</th>\n",
       "    </tr>\n",
       "  </tbody>\n",
       "</table>\n",
       "</div>"
      ],
      "text/plain": [
       "Empty DataFrame\n",
       "Columns: []\n",
       "Index: [Earnings Date, Earnings Average, Earnings Low, Earnings High, Revenue Average, Revenue Low, Revenue High]"
      ]
     },
     "execution_count": 19,
     "metadata": {},
     "output_type": "execute_result"
    },
    {
     "data": {
      "image/png": "[encoded data removed]",
      "text/plain": [
       "<Figure size 432x288 with 1 Axes>"
      ]
     },
     "metadata": {
      "needs_background": "light"
     },
     "output_type": "display_data"
    }
   ],
   "source": [
    "import pandas as pd\n",
    "import yfinance as yf\n",
    "from yahoofinancials import YahooFinancials\n",
    "ticker = yf.Ticker('RELIANCE.NS')\n",
    "ongc_df = ticker.history(period=\"max\")\n",
    "ongc_df['Close'].plot(title=\"reliance stock price\")\n",
    "ticker.major_holders\n",
    "ticker.calendar\n",
    "\n"
   ]
  },
  {
   "cell_type": "code",
   "execution_count": 9,
   "metadata": {},
   "outputs": [
    {
     "data": {
      "application/vnd.plotly.v1+json": {
       "config": {
        "plotlyServerURL": "https://plot.ly"
       },
       "data": [
        {
         "hovertemplate": "AAPL_x=%{x}<br>AAPL_y=%{y}<extra></extra>",
         "legendgroup": "",
         "line": {
          "color": "#636efa",
          "dash": "solid"
         },
         "marker": {
          "symbol": "circle"
         },
         "mode": "lines",
         "name": "",
         "orientation": "v",
         "showlegend": false,
         "type": "scatter",
         "x": [
          "2014-01-02",
          "2014-01-03",
          "2014-01-06",
          "2014-01-07",
          "2014-01-08",
          "2014-01-09",
          "2014-01-10",
          "2014-01-13",
          "2014-01-14",
          "2014-01-15",
          "2014-01-16",
          "2014-01-17",
          "2014-01-21",
          "2014-01-22",
          "2014-01-23",
          "2014-01-24",
          "2014-01-27",
          "2014-01-28",
          "2014-01-29",
          "2014-01-30",
          "2014-01-31",
          "2014-02-03",
          "2014-02-04",
          "2014-02-05",
          "2014-02-06",
          "2014-02-07",
          "2014-02-10",
          "2014-02-11",
          "2014-02-12",
          "2014-02-13",
          "2014-02-14",
          "2014-02-18",
          "2014-02-19",
          "2014-02-20",
          "2014-02-21",
          "2014-02-24",
          "2014-02-25",
          "2014-02-26",
          "2014-02-27",
          "2014-02-28",
          "2014-03-03",
          "2014-03-04",
          "2014-03-05",
          "2014-03-06",
          "2014-03-07",
          "2014-03-10",
          "2014-03-11",
          "2014-03-12",
          "2014-03-13",
          "2014-03-14",
          "2014-03-17",
          "2014-03-18",
          "2014-03-19",
          "2014-03-20",
          "2014-03-21",
          "2014-03-24",
          "2014-03-25",
          "2014-03-26",
          "2014-03-27",
          "2014-03-28",
          "2014-03-31",
          "2014-04-01",
          "2014-04-02",
          "2014-04-03",
          "2014-04-04",
          "2014-04-07",
          "2014-04-08",
          "2014-04-09",
          "2014-04-10",
          "2014-04-11",
          "2014-04-14",
          "2014-04-15",
          "2014-04-16",
          "2014-04-17",
          "2014-04-21",
          "2014-04-22",
          "2014-04-23",
          "2014-04-24",
          "2014-04-25",
          "2014-04-28",
          "2014-04-29",
          "2014-04-30",
          "2014-05-01",
          "2014-05-02",
          "2014-05-05",
          "2014-05-06",
          "2014-05-07",
          "2014-05-08",
          "2014-05-09",
          "2014-05-12",
          "2014-05-13",
          "2014-05-14",
          "2014-05-15",
          "2014-05-16",
          "2014-05-19",
          "2014-05-20",
          "2014-05-21",
          "2014-05-22",
          "2014-05-23",
          "2014-05-27",
          "2014-05-28",
          "2014-05-29",
          "2014-05-30",
          "2014-06-02",
          "2014-06-03",
          "2014-06-04",
          "2014-06-05",
          "2014-06-06",
          "2014-06-09",
          "2014-06-10",
          "2014-06-11",
          "2014-06-12",
          "2014-06-13",
          "2014-06-16",
          "2014-06-17",
          "2014-06-18",
          "2014-06-19",
          "2014-06-20",
          "2014-06-23",
          "2014-06-24",
          "2014-06-25",
          "2014-06-26",
          "2014-06-27",
          "2014-06-30",
          "2014-07-01",
          "2014-07-02",
          "2014-07-03",
          "2014-07-07",
          "2014-07-08",
          "2014-07-09",
          "2014-07-10",
          "2014-07-11",
          "2014-07-14",
          "2014-07-15",
          "2014-07-16",
          "2014-07-17",
          "2014-07-18",
          "2014-07-21",
          "2014-07-22",
          "2014-07-23",
          "2014-07-24",
          "2014-07-25",
          "2014-07-28",
          "2014-07-29",
          "2014-07-30",
          "2014-07-31",
          "2014-08-01",
          "2014-08-04",
          "2014-08-05",
          "2014-08-06",
          "2014-08-07",
          "2014-08-08",
          "2014-08-11",
          "2014-08-12",
          "2014-08-13",
          "2014-08-14",
          "2014-08-15",
          "2014-08-18",
          "2014-08-19",
          "2014-08-20",
          "2014-08-21",
          "2014-08-22",
          "2014-08-25",
          "2014-08-26",
          "2014-08-27",
          "2014-08-28",
          "2014-08-29",
          "2014-09-02",
          "2014-09-03",
          "2014-09-04",
          "2014-09-05",
          "2014-09-08",
          "2014-09-09",
          "2014-09-10",
          "2014-09-11",
          "2014-09-12",
          "2014-09-15",
          "2014-09-16",
          "2014-09-17",
          "2014-09-18",
          "2014-09-19",
          "2014-09-22",
          "2014-09-23",
          "2014-09-24",
          "2014-09-25",
          "2014-09-26",
          "2014-09-29",
          "2014-09-30",
          "2014-10-01",
          "2014-10-02",
          "2014-10-03",
          "2014-10-06",
          "2014-10-07",
          "2014-10-08",
          "2014-10-09",
          "2014-10-10",
          "2014-10-13",
          "2014-10-14",
          "2014-10-15",
          "2014-10-16",
          "2014-10-17",
          "2014-10-20",
          "2014-10-21",
          "2014-10-22",
          "2014-10-23",
          "2014-10-24",
          "2014-10-27",
          "2014-10-28",
          "2014-10-29",
          "2014-10-30",
          "2014-10-31",
          "2014-11-03",
          "2014-11-04",
          "2014-11-05",
          "2014-11-06",
          "2014-11-07",
          "2014-11-10",
          "2014-11-11",
          "2014-11-12",
          "2014-11-13",
          "2014-11-14",
          "2014-11-17",
          "2014-11-18",
          "2014-11-19",
          "2014-11-20",
          "2014-11-21",
          "2014-11-24",
          "2014-11-25",
          "2014-11-26",
          "2014-11-28",
          "2014-12-01",
          "2014-12-02",
          "2014-12-03",
          "2014-12-04",
          "2014-12-05",
          "2014-12-08",
          "2014-12-09",
          "2014-12-10",
          "2014-12-11",
          "2014-12-12"
         ],
         "xaxis": "x",
         "y": [
          77.44539475,
          77.04557544,
          74.89697204,
          75.856461,
          75.09194679,
          76.20263178,
          75.2301837,
          73.84891755,
          75.0113527,
          77.14481412,
          77.33058367,
          76.85652616,
          75.39394758,
          76.7763823,
          76.64038513,
          77.20512022,
          76.66007339,
          70.90497216,
          70.23598702,
          70.03463724,
          69.00470795,
          70.04050186,
          70.50025256,
          70.599595,
          71.50652865,
          73.09834283,
          72.71181988,
          74.38994589,
          75.2743945,
          74.9602296,
          76.05688873,
          76.55140204,
          76.37468597,
          74.7279776,
          74.69710728,
          73.34314093,
          74.21622457,
          73.40762211,
          72.50368071,
          74.17817422,
          73.38154805,
          74.44635193,
          74.43810354,
          74.69600358,
          74.46113283,
          74.07111203,
          75.07027178,
          74.93559065,
          75.35199472,
          74.13480798,
          73.98459392,
          73.7289236,
          74.62019501,
          74.28682958,
          74.57820913,
          75.48205234,
          75.92068662,
          76.62498351,
          75.70890299,
          75.47469806,
          75.5990936,
          75.39461719,
          76.03616773,
          75.90452792,
          75.68018051,
          74.02790571,
          73.62532898,
          73.27327651,
          74.39941392,
          72.7644772,
          73.1708442,
          72.94387096,
          72.62541762,
          72.897474,
          73.65263437,
          74.06474967,
          74.17426241,
          79.66168695,
          79.14119558,
          80.30519282,
          83.23767089,
          83.08750733,
          82.99289917,
          83.04635189,
          82.73311868,
          84.3659999,
          83.449361,
          82.92665266,
          82.40901903,
          82.82714134,
          83.46187012,
          83.516998,
          83.83894399,
          82.98805242,
          84.28974015,
          85.22180467,
          85.13035972,
          85.51554663,
          85.61005813,
          86.82546553,
          88.25336036,
          88.51837168,
          89.94207773,
          89.37862849,
          88.59990714,
          89.8695301,
          91.09787905,
          91.62042691,
          91.483127,
          93.48368488,
          92.89646175,
          92.80705602,
          90.98790535,
          90.30905531,
          91.09697763,
          91.05881862,
          91.07433595,
          90.64769552,
          90.12358031,
          89.55380483,
          89.02197543,
          89.18693839,
          89.62525984,
          90.89089637,
          92.29,
          92.63486842,
          92.43474742,
          92.90402626,
          95.00793917,
          94.1893448,
          92.52683502,
          94.10816215,
          94.59776879,
          95.53059169,
          95.69111732,
          93.78457514,
          92.39063645,
          93.74625186,
          93.44052365,
          94.16331104,
          95.75986808,
          95.58074639,
          96.53575439,
          98.0275432,
          97.14618849,
          95.87943933,
          93.65612192,
          95.09971859,
          94.10684609,
          93.50276432,
          94.14628493,
          93.48395187,
          94.48592562,
          95.24942378,
          95.3589675,
          96.53139487,
          97.09066136,
          97.67554054,
          98.58924699,
          99.61107288,
          99.74008252,
          99.46843762,
          100.9479319,
          100.5856398,
          100.1891295,
          100.755422,
          102.0170498,
          102.2119748,
          102.255943,
          98.03397371,
          97.99139133,
          98.48225905,
          98.2609899,
          97.20457129,
          99.58834664,
          100.3737183,
          101.960247,
          98.97872298,
          100.4325635,
          101.0888447,
          101.449066,
          100.9639224,
          99.77669525,
          101.3166152,
          99.67815061,
          97.71828883,
          97.84195885,
          99.97950571,
          99.75834241,
          98.45517117,
          98.62148163,
          99.12728368,
          98.61442228,
          97.94679762,
          100.7057276,
          99.86032959,
          100.4975123,
          99.56654785,
          97.16647324,
          94.76582693,
          96.70139244,
          97.51183641,
          102.1754914,
          101.991238,
          103.2261528,
          104.3103307,
          103.982152,
          104.5310474,
          105.7756568,
          106.0801645,
          107.1199176,
          107.3297075,
          108.4637716,
          108.1980158,
          108.1703956,
          108.3210256,
          108.5892493,
          108.2739198,
          108.947396,
          111.363978,
          112.7040594,
          113.8188946,
          113.4959626,
          114.9869783,
          114.4555369,
          117.0458925,
          116.3870522,
          118.60425,
          117.4741866,
          118.7986564,
          118.3453741,
          113.054436,
          115.2907142,
          115.318909,
          115.5361261,
          113.6533452,
          109.7554968,
          113.9603314,
          111.8174772,
          110.0271393
         ],
         "yaxis": "y"
        }
       ],
       "layout": {
        "legend": {
         "tracegroupgap": 0
        },
        "template": {
         "data": {
          "bar": [
           {
            "error_x": {
             "color": "#2a3f5f"
            },
            "error_y": {
             "color": "#2a3f5f"
            },
            "marker": {
             "line": {
              "color": "#E5ECF6",
              "width": 0.5
             },
             "pattern": {
              "fillmode": "overlay",
              "size": 10,
              "solidity": 0.2
             }
            },
            "type": "bar"
           }
          ],
          "barpolar": [
           {
            "marker": {
             "line": {
              "color": "#E5ECF6",
              "width": 0.5
             },
             "pattern": {
              "fillmode": "overlay",
              "size": 10,
              "solidity": 0.2
             }
            },
            "type": "barpolar"
           }
          ],
          "carpet": [
           {
            "aaxis": {
             "endlinecolor": "#2a3f5f",
             "gridcolor": "white",
             "linecolor": "white",
             "minorgridcolor": "white",
             "startlinecolor": "#2a3f5f"
            },
            "baxis": {
             "endlinecolor": "#2a3f5f",
             "gridcolor": "white",
             "linecolor": "white",
             "minorgridcolor": "white",
             "startlinecolor": "#2a3f5f"
            },
            "type": "carpet"
           }
          ],
          "choropleth": [
           {
            "colorbar": {
             "outlinewidth": 0,
             "ticks": ""
            },
            "type": "choropleth"
           }
          ],
          "contour": [
           {
            "colorbar": {
             "outlinewidth": 0,
             "ticks": ""
            },
            "colorscale": [
             [
              0,
              "#0d0887"
             ],
             [
              0.1111111111111111,
              "#46039f"
             ],
             [
              0.2222222222222222,
              "#7201a8"
             ],
             [
              0.3333333333333333,
              "#9c179e"
             ],
             [
              0.4444444444444444,
              "#bd3786"
             ],
             [
              0.5555555555555556,
              "#d8576b"
             ],
             [
              0.6666666666666666,
              "#ed7953"
             ],
             [
              0.7777777777777778,
              "#fb9f3a"
             ],
             [
              0.8888888888888888,
              "#fdca26"
             ],
             [
              1,
              "#f0f921"
             ]
            ],
            "type": "contour"
           }
          ],
          "contourcarpet": [
           {
            "colorbar": {
             "outlinewidth": 0,
             "ticks": ""
            },
            "type": "contourcarpet"
           }
          ],
          "heatmap": [
           {
            "colorbar": {
             "outlinewidth": 0,
             "ticks": ""
            },
            "colorscale": [
             [
              0,
              "#0d0887"
             ],
             [
              0.1111111111111111,
              "#46039f"
             ],
             [
              0.2222222222222222,
              "#7201a8"
             ],
             [
              0.3333333333333333,
              "#9c179e"
             ],
             [
              0.4444444444444444,
              "#bd3786"
             ],
             [
              0.5555555555555556,
              "#d8576b"
             ],
             [
              0.6666666666666666,
              "#ed7953"
             ],
             [
              0.7777777777777778,
              "#fb9f3a"
             ],
             [
              0.8888888888888888,
              "#fdca26"
             ],
             [
              1,
              "#f0f921"
             ]
            ],
            "type": "heatmap"
           }
          ],
          "heatmapgl": [
           {
            "colorbar": {
             "outlinewidth": 0,
             "ticks": ""
            },
            "colorscale": [
             [
              0,
              "#0d0887"
             ],
             [
              0.1111111111111111,
              "#46039f"
             ],
             [
              0.2222222222222222,
              "#7201a8"
             ],
             [
              0.3333333333333333,
              "#9c179e"
             ],
             [
              0.4444444444444444,
              "#bd3786"
             ],
             [
              0.5555555555555556,
              "#d8576b"
             ],
             [
              0.6666666666666666,
              "#ed7953"
             ],
             [
              0.7777777777777778,
              "#fb9f3a"
             ],
             [
              0.8888888888888888,
              "#fdca26"
             ],
             [
              1,
              "#f0f921"
             ]
            ],
            "type": "heatmapgl"
           }
          ],
          "histogram": [
           {
            "marker": {
             "pattern": {
              "fillmode": "overlay",
              "size": 10,
              "solidity": 0.2
             }
            },
            "type": "histogram"
           }
          ],
          "histogram2d": [
           {
            "colorbar": {
             "outlinewidth": 0,
             "ticks": ""
            },
            "colorscale": [
             [
              0,
              "#0d0887"
             ],
             [
              0.1111111111111111,
              "#46039f"
             ],
             [
              0.2222222222222222,
              "#7201a8"
             ],
             [
              0.3333333333333333,
              "#9c179e"
             ],
             [
              0.4444444444444444,
              "#bd3786"
             ],
             [
              0.5555555555555556,
              "#d8576b"
             ],
             [
              0.6666666666666666,
              "#ed7953"
             ],
             [
              0.7777777777777778,
              "#fb9f3a"
             ],
             [
              0.8888888888888888,
              "#fdca26"
             ],
             [
              1,
              "#f0f921"
             ]
            ],
            "type": "histogram2d"
           }
          ],
          "histogram2dcontour": [
           {
            "colorbar": {
             "outlinewidth": 0,
             "ticks": ""
            },
            "colorscale": [
             [
              0,
              "#0d0887"
             ],
             [
              0.1111111111111111,
              "#46039f"
             ],
             [
              0.2222222222222222,
              "#7201a8"
             ],
             [
              0.3333333333333333,
              "#9c179e"
             ],
             [
              0.4444444444444444,
              "#bd3786"
             ],
             [
              0.5555555555555556,
              "#d8576b"
             ],
             [
              0.6666666666666666,
              "#ed7953"
             ],
             [
              0.7777777777777778,
              "#fb9f3a"
             ],
             [
              0.8888888888888888,
              "#fdca26"
             ],
             [
              1,
              "#f0f921"
             ]
            ],
            "type": "histogram2dcontour"
           }
          ],
          "mesh3d": [
           {
            "colorbar": {
             "outlinewidth": 0,
             "ticks": ""
            },
            "type": "mesh3d"
           }
          ],
          "parcoords": [
           {
            "line": {
             "colorbar": {
              "outlinewidth": 0,
              "ticks": ""
             }
            },
            "type": "parcoords"
           }
          ],
          "pie": [
           {
            "automargin": true,
            "type": "pie"
           }
          ],
          "scatter": [
           {
            "fillpattern": {
             "fillmode": "overlay",
             "size": 10,
             "solidity": 0.2
            },
            "type": "scatter"
           }
          ],
          "scatter3d": [
           {
            "line": {
             "colorbar": {
              "outlinewidth": 0,
              "ticks": ""
             }
            },
            "marker": {
             "colorbar": {
              "outlinewidth": 0,
              "ticks": ""
             }
            },
            "type": "scatter3d"
           }
          ],
          "scattercarpet": [
           {
            "marker": {
             "colorbar": {
              "outlinewidth": 0,
              "ticks": ""
             }
            },
            "type": "scattercarpet"
           }
          ],
          "scattergeo": [
           {
            "marker": {
             "colorbar": {
              "outlinewidth": 0,
              "ticks": ""
             }
            },
            "type": "scattergeo"
           }
          ],
          "scattergl": [
           {
            "marker": {
             "colorbar": {
              "outlinewidth": 0,
              "ticks": ""
             }
            },
            "type": "scattergl"
           }
          ],
          "scattermapbox": [
           {
            "marker": {
             "colorbar": {
              "outlinewidth": 0,
              "ticks": ""
             }
            },
            "type": "scattermapbox"
           }
          ],
          "scatterpolar": [
           {
            "marker": {
             "colorbar": {
              "outlinewidth": 0,
              "ticks": ""
             }
            },
            "type": "scatterpolar"
           }
          ],
          "scatterpolargl": [
           {
            "marker": {
             "colorbar": {
              "outlinewidth": 0,
              "ticks": ""
             }
            },
            "type": "scatterpolargl"
           }
          ],
          "scatterternary": [
           {
            "marker": {
             "colorbar": {
              "outlinewidth": 0,
              "ticks": ""
             }
            },
            "type": "scatterternary"
           }
          ],
          "surface": [
           {
            "colorbar": {
             "outlinewidth": 0,
             "ticks": ""
            },
            "colorscale": [
             [
              0,
              "#0d0887"
             ],
             [
              0.1111111111111111,
              "#46039f"
             ],
             [
              0.2222222222222222,
              "#7201a8"
             ],
             [
              0.3333333333333333,
              "#9c179e"
             ],
             [
              0.4444444444444444,
              "#bd3786"
             ],
             [
              0.5555555555555556,
              "#d8576b"
             ],
             [
              0.6666666666666666,
              "#ed7953"
             ],
             [
              0.7777777777777778,
              "#fb9f3a"
             ],
             [
              0.8888888888888888,
              "#fdca26"
             ],
             [
              1,
              "#f0f921"
             ]
            ],
            "type": "surface"
           }
          ],
          "table": [
           {
            "cells": {
             "fill": {
              "color": "#EBF0F8"
             },
             "line": {
              "color": "white"
             }
            },
            "header": {
             "fill": {
              "color": "#C8D4E3"
             },
             "line": {
              "color": "white"
             }
            },
            "type": "table"
           }
          ]
         },
         "layout": {
          "annotationdefaults": {
           "arrowcolor": "#2a3f5f",
           "arrowhead": 0,
           "arrowwidth": 1
          },
          "autotypenumbers": "strict",
          "coloraxis": {
           "colorbar": {
            "outlinewidth": 0,
            "ticks": ""
           }
          },
          "colorscale": {
           "diverging": [
            [
             0,
             "#8e0152"
            ],
            [
             0.1,
             "#c51b7d"
            ],
            [
             0.2,
             "#de77ae"
            ],
            [
             0.3,
             "#f1b6da"
            ],
            [
             0.4,
             "#fde0ef"
            ],
            [
             0.5,
             "#f7f7f7"
            ],
            [
             0.6,
             "#e6f5d0"
            ],
            [
             0.7,
             "#b8e186"
            ],
            [
             0.8,
             "#7fbc41"
            ],
            [
             0.9,
             "#4d9221"
            ],
            [
             1,
             "#276419"
            ]
           ],
           "sequential": [
            [
             0,
             "#0d0887"
            ],
            [
             0.1111111111111111,
             "#46039f"
            ],
            [
             0.2222222222222222,
             "#7201a8"
            ],
            [
             0.3333333333333333,
             "#9c179e"
            ],
            [
             0.4444444444444444,
             "#bd3786"
            ],
            [
             0.5555555555555556,
             "#d8576b"
            ],
            [
             0.6666666666666666,
             "#ed7953"
            ],
            [
             0.7777777777777778,
             "#fb9f3a"
            ],
            [
             0.8888888888888888,
             "#fdca26"
            ],
            [
             1,
             "#f0f921"
            ]
           ],
           "sequentialminus": [
            [
             0,
             "#0d0887"
            ],
            [
             0.1111111111111111,
             "#46039f"
            ],
            [
             0.2222222222222222,
             "#7201a8"
            ],
            [
             0.3333333333333333,
             "#9c179e"
            ],
            [
             0.4444444444444444,
             "#bd3786"
            ],
            [
             0.5555555555555556,
             "#d8576b"
            ],
            [
             0.6666666666666666,
             "#ed7953"
            ],
            [
             0.7777777777777778,
             "#fb9f3a"
            ],
            [
             0.8888888888888888,
             "#fdca26"
            ],
            [
             1,
             "#f0f921"
            ]
           ]
          },
          "colorway": [
           "#636efa",
           "#EF553B",
           "#00cc96",
           "#ab63fa",
           "#FFA15A",
           "#19d3f3",
           "#FF6692",
           "#B6E880",
           "#FF97FF",
           "#FECB52"
          ],
          "font": {
           "color": "#2a3f5f"
          },
          "geo": {
           "bgcolor": "white",
           "lakecolor": "white",
           "landcolor": "#E5ECF6",
           "showlakes": true,
           "showland": true,
           "subunitcolor": "white"
          },
          "hoverlabel": {
           "align": "left"
          },
          "hovermode": "closest",
          "mapbox": {
           "style": "light"
          },
          "paper_bgcolor": "white",
          "plot_bgcolor": "#E5ECF6",
          "polar": {
           "angularaxis": {
            "gridcolor": "white",
            "linecolor": "white",
            "ticks": ""
           },
           "bgcolor": "#E5ECF6",
           "radialaxis": {
            "gridcolor": "white",
            "linecolor": "white",
            "ticks": ""
           }
          },
          "scene": {
           "xaxis": {
            "backgroundcolor": "#E5ECF6",
            "gridcolor": "white",
            "gridwidth": 2,
            "linecolor": "white",
            "showbackground": true,
            "ticks": "",
            "zerolinecolor": "white"
           },
           "yaxis": {
            "backgroundcolor": "#E5ECF6",
            "gridcolor": "white",
            "gridwidth": 2,
            "linecolor": "white",
            "showbackground": true,
            "ticks": "",
            "zerolinecolor": "white"
           },
           "zaxis": {
            "backgroundcolor": "#E5ECF6",
            "gridcolor": "white",
            "gridwidth": 2,
            "linecolor": "white",
            "showbackground": true,
            "ticks": "",
            "zerolinecolor": "white"
           }
          },
          "shapedefaults": {
           "line": {
            "color": "#2a3f5f"
           }
          },
          "ternary": {
           "aaxis": {
            "gridcolor": "white",
            "linecolor": "white",
            "ticks": ""
           },
           "baxis": {
            "gridcolor": "white",
            "linecolor": "white",
            "ticks": ""
           },
           "bgcolor": "#E5ECF6",
           "caxis": {
            "gridcolor": "white",
            "linecolor": "white",
            "ticks": ""
           }
          },
          "title": {
           "x": 0.05
          },
          "xaxis": {
           "automargin": true,
           "gridcolor": "white",
           "linecolor": "white",
           "ticks": "",
           "title": {
            "standoff": 15
           },
           "zerolinecolor": "white",
           "zerolinewidth": 2
          },
          "yaxis": {
           "automargin": true,
           "gridcolor": "white",
           "linecolor": "white",
           "ticks": "",
           "title": {
            "standoff": 15
           },
           "zerolinecolor": "white",
           "zerolinewidth": 2
          }
         }
        },
        "title": {
         "text": "Apple Share Prices over time (2014)"
        },
        "xaxis": {
         "anchor": "y",
         "domain": [
          0,
          1
         ],
         "title": {
          "text": "AAPL_x"
         }
        },
        "yaxis": {
         "anchor": "x",
         "domain": [
          0,
          1
         ],
         "title": {
          "text": "AAPL_y"
         }
        }
       }
      }
     },
     "metadata": {},
     "output_type": "display_data"
    },
    {
     "ename": "FileNotFoundError",
     "evalue": "[Errno 2] No such file or directory: 'img\\\\fig1.png'",
     "output_type": "error",
     "traceback": [
      "\u001b[1;31m---------------------------------------------------------------------------\u001b[0m",
      "\u001b[1;31mFileNotFoundError\u001b[0m                         Traceback (most recent call last)",
      "\u001b[1;32mc:\\Users\\avish\\stocktrade\\pro1.ipynb Cell 2'\u001b[0m in \u001b[0;36m<cell line: 8>\u001b[1;34m()\u001b[0m\n\u001b[0;32m      <a href='vscode-notebook-cell:/c%3A/Users/avish/stocktrade/pro1.ipynb#ch0000005?line=5'>6</a>\u001b[0m fig \u001b[39m=\u001b[39m px\u001b[39m.\u001b[39mline(df, x \u001b[39m=\u001b[39m \u001b[39m'\u001b[39m\u001b[39mAAPL_x\u001b[39m\u001b[39m'\u001b[39m, y \u001b[39m=\u001b[39m \u001b[39m'\u001b[39m\u001b[39mAAPL_y\u001b[39m\u001b[39m'\u001b[39m, title\u001b[39m=\u001b[39m\u001b[39m'\u001b[39m\u001b[39mApple Share Prices over time (2014)\u001b[39m\u001b[39m'\u001b[39m)\n\u001b[0;32m      <a href='vscode-notebook-cell:/c%3A/Users/avish/stocktrade/pro1.ipynb#ch0000005?line=6'>7</a>\u001b[0m fig\u001b[39m.\u001b[39mshow()\n\u001b[1;32m----> <a href='vscode-notebook-cell:/c%3A/Users/avish/stocktrade/pro1.ipynb#ch0000005?line=7'>8</a>\u001b[0m fig\u001b[39m.\u001b[39;49mwrite_image(\u001b[39m\"\u001b[39;49m\u001b[39mimg/fig1.png\u001b[39;49m\u001b[39m\"\u001b[39;49m)\n",
      "File \u001b[1;32mc:\\Users\\avish\\AppData\\Local\\Programs\\Python\\Python38-32\\lib\\site-packages\\plotly\\basedatatypes.py:3829\u001b[0m, in \u001b[0;36mBaseFigure.write_image\u001b[1;34m(self, *args, **kwargs)\u001b[0m\n\u001b[0;32m   <a href='file:///c%3A/Users/avish/AppData/Local/Programs/Python/Python38-32/lib/site-packages/plotly/basedatatypes.py?line=3768'>3769</a>\u001b[0m \u001b[39m\"\"\"\u001b[39;00m\n\u001b[0;32m   <a href='file:///c%3A/Users/avish/AppData/Local/Programs/Python/Python38-32/lib/site-packages/plotly/basedatatypes.py?line=3769'>3770</a>\u001b[0m \u001b[39mConvert a figure to a static image and write it to a file or writeable\u001b[39;00m\n\u001b[0;32m   <a href='file:///c%3A/Users/avish/AppData/Local/Programs/Python/Python38-32/lib/site-packages/plotly/basedatatypes.py?line=3770'>3771</a>\u001b[0m \u001b[39mobject\u001b[39;00m\n\u001b[1;32m   (...)\u001b[0m\n\u001b[0;32m   <a href='file:///c%3A/Users/avish/AppData/Local/Programs/Python/Python38-32/lib/site-packages/plotly/basedatatypes.py?line=3824'>3825</a>\u001b[0m \u001b[39mNone\u001b[39;00m\n\u001b[0;32m   <a href='file:///c%3A/Users/avish/AppData/Local/Programs/Python/Python38-32/lib/site-packages/plotly/basedatatypes.py?line=3825'>3826</a>\u001b[0m \u001b[39m\"\"\"\u001b[39;00m\n\u001b[0;32m   <a href='file:///c%3A/Users/avish/AppData/Local/Programs/Python/Python38-32/lib/site-packages/plotly/basedatatypes.py?line=3826'>3827</a>\u001b[0m \u001b[39mimport\u001b[39;00m \u001b[39mplotly\u001b[39;00m\u001b[39m.\u001b[39;00m\u001b[39mio\u001b[39;00m \u001b[39mas\u001b[39;00m \u001b[39mpio\u001b[39;00m\n\u001b[1;32m-> <a href='file:///c%3A/Users/avish/AppData/Local/Programs/Python/Python38-32/lib/site-packages/plotly/basedatatypes.py?line=3828'>3829</a>\u001b[0m \u001b[39mreturn\u001b[39;00m pio\u001b[39m.\u001b[39;49mwrite_image(\u001b[39mself\u001b[39;49m, \u001b[39m*\u001b[39;49margs, \u001b[39m*\u001b[39;49m\u001b[39m*\u001b[39;49mkwargs)\n",
      "File \u001b[1;32mc:\\Users\\avish\\AppData\\Local\\Programs\\Python\\Python38-32\\lib\\site-packages\\plotly\\io\\_kaleido.py:297\u001b[0m, in \u001b[0;36mwrite_image\u001b[1;34m(fig, file, format, scale, width, height, validate, engine)\u001b[0m\n\u001b[0;32m    <a href='file:///c%3A/Users/avish/AppData/Local/Programs/Python/Python38-32/lib/site-packages/plotly/io/_kaleido.py?line=286'>287</a>\u001b[0m         \u001b[39mraise\u001b[39;00m \u001b[39mValueError\u001b[39;00m(\n\u001b[0;32m    <a href='file:///c%3A/Users/avish/AppData/Local/Programs/Python/Python38-32/lib/site-packages/plotly/io/_kaleido.py?line=287'>288</a>\u001b[0m             \u001b[39m\"\"\"\u001b[39;00m\n\u001b[0;32m    <a href='file:///c%3A/Users/avish/AppData/Local/Programs/Python/Python38-32/lib/site-packages/plotly/io/_kaleido.py?line=288'>289</a>\u001b[0m \u001b[39mThe 'file' argument '{file}' is not a string, pathlib.Path object, or file descriptor.\u001b[39;00m\n\u001b[1;32m   (...)\u001b[0m\n\u001b[0;32m    <a href='file:///c%3A/Users/avish/AppData/Local/Programs/Python/Python38-32/lib/site-packages/plotly/io/_kaleido.py?line=291'>292</a>\u001b[0m             )\n\u001b[0;32m    <a href='file:///c%3A/Users/avish/AppData/Local/Programs/Python/Python38-32/lib/site-packages/plotly/io/_kaleido.py?line=292'>293</a>\u001b[0m         )\n\u001b[0;32m    <a href='file:///c%3A/Users/avish/AppData/Local/Programs/Python/Python38-32/lib/site-packages/plotly/io/_kaleido.py?line=293'>294</a>\u001b[0m     \u001b[39melse\u001b[39;00m:\n\u001b[0;32m    <a href='file:///c%3A/Users/avish/AppData/Local/Programs/Python/Python38-32/lib/site-packages/plotly/io/_kaleido.py?line=294'>295</a>\u001b[0m         \u001b[39m# We previously succeeded in interpreting `file` as a pathlib object.\u001b[39;00m\n\u001b[0;32m    <a href='file:///c%3A/Users/avish/AppData/Local/Programs/Python/Python38-32/lib/site-packages/plotly/io/_kaleido.py?line=295'>296</a>\u001b[0m         \u001b[39m# Now we can use `write_bytes()`.\u001b[39;00m\n\u001b[1;32m--> <a href='file:///c%3A/Users/avish/AppData/Local/Programs/Python/Python38-32/lib/site-packages/plotly/io/_kaleido.py?line=296'>297</a>\u001b[0m         path\u001b[39m.\u001b[39;49mwrite_bytes(img_data)\n",
      "File \u001b[1;32mc:\\Users\\avish\\AppData\\Local\\Programs\\Python\\Python38-32\\lib\\pathlib.py:1241\u001b[0m, in \u001b[0;36mPath.write_bytes\u001b[1;34m(self, data)\u001b[0m\n\u001b[0;32m   <a href='file:///c%3A/Users/avish/AppData/Local/Programs/Python/Python38-32/lib/pathlib.py?line=1238'>1239</a>\u001b[0m \u001b[39m# type-check for the buffer interface before truncating the file\u001b[39;00m\n\u001b[0;32m   <a href='file:///c%3A/Users/avish/AppData/Local/Programs/Python/Python38-32/lib/pathlib.py?line=1239'>1240</a>\u001b[0m view \u001b[39m=\u001b[39m \u001b[39mmemoryview\u001b[39m(data)\n\u001b[1;32m-> <a href='file:///c%3A/Users/avish/AppData/Local/Programs/Python/Python38-32/lib/pathlib.py?line=1240'>1241</a>\u001b[0m \u001b[39mwith\u001b[39;00m \u001b[39mself\u001b[39;49m\u001b[39m.\u001b[39;49mopen(mode\u001b[39m=\u001b[39;49m\u001b[39m'\u001b[39;49m\u001b[39mwb\u001b[39;49m\u001b[39m'\u001b[39;49m) \u001b[39mas\u001b[39;00m f:\n\u001b[0;32m   <a href='file:///c%3A/Users/avish/AppData/Local/Programs/Python/Python38-32/lib/pathlib.py?line=1241'>1242</a>\u001b[0m     \u001b[39mreturn\u001b[39;00m f\u001b[39m.\u001b[39mwrite(view)\n",
      "File \u001b[1;32mc:\\Users\\avish\\AppData\\Local\\Programs\\Python\\Python38-32\\lib\\pathlib.py:1218\u001b[0m, in \u001b[0;36mPath.open\u001b[1;34m(self, mode, buffering, encoding, errors, newline)\u001b[0m\n\u001b[0;32m   <a href='file:///c%3A/Users/avish/AppData/Local/Programs/Python/Python38-32/lib/pathlib.py?line=1215'>1216</a>\u001b[0m \u001b[39mif\u001b[39;00m \u001b[39mself\u001b[39m\u001b[39m.\u001b[39m_closed:\n\u001b[0;32m   <a href='file:///c%3A/Users/avish/AppData/Local/Programs/Python/Python38-32/lib/pathlib.py?line=1216'>1217</a>\u001b[0m     \u001b[39mself\u001b[39m\u001b[39m.\u001b[39m_raise_closed()\n\u001b[1;32m-> <a href='file:///c%3A/Users/avish/AppData/Local/Programs/Python/Python38-32/lib/pathlib.py?line=1217'>1218</a>\u001b[0m \u001b[39mreturn\u001b[39;00m io\u001b[39m.\u001b[39;49mopen(\u001b[39mself\u001b[39;49m, mode, buffering, encoding, errors, newline,\n\u001b[0;32m   <a href='file:///c%3A/Users/avish/AppData/Local/Programs/Python/Python38-32/lib/pathlib.py?line=1218'>1219</a>\u001b[0m                opener\u001b[39m=\u001b[39;49m\u001b[39mself\u001b[39;49m\u001b[39m.\u001b[39;49m_opener)\n",
      "File \u001b[1;32mc:\\Users\\avish\\AppData\\Local\\Programs\\Python\\Python38-32\\lib\\pathlib.py:1074\u001b[0m, in \u001b[0;36mPath._opener\u001b[1;34m(self, name, flags, mode)\u001b[0m\n\u001b[0;32m   <a href='file:///c%3A/Users/avish/AppData/Local/Programs/Python/Python38-32/lib/pathlib.py?line=1071'>1072</a>\u001b[0m \u001b[39mdef\u001b[39;00m \u001b[39m_opener\u001b[39m(\u001b[39mself\u001b[39m, name, flags, mode\u001b[39m=\u001b[39m\u001b[39m0o666\u001b[39m):\n\u001b[0;32m   <a href='file:///c%3A/Users/avish/AppData/Local/Programs/Python/Python38-32/lib/pathlib.py?line=1072'>1073</a>\u001b[0m     \u001b[39m# A stub for the opener argument to built-in open()\u001b[39;00m\n\u001b[1;32m-> <a href='file:///c%3A/Users/avish/AppData/Local/Programs/Python/Python38-32/lib/pathlib.py?line=1073'>1074</a>\u001b[0m     \u001b[39mreturn\u001b[39;00m \u001b[39mself\u001b[39;49m\u001b[39m.\u001b[39;49m_accessor\u001b[39m.\u001b[39;49mopen(\u001b[39mself\u001b[39;49m, flags, mode)\n",
      "\u001b[1;31mFileNotFoundError\u001b[0m: [Errno 2] No such file or directory: 'img\\\\fig1.png'"
     ]
    }
   ],
   "source": [
    "import pandas as pd\n",
    "import plotly.express as px\n",
    "import plotly.io as pio\n",
    "df = pd.read_csv('https://raw.githubusercontent.com/plotly/datasets/master/2014_apple_stock.csv')\n",
    "\n",
    "fig = px.line(df, x = 'AAPL_x', y = 'AAPL_y', title='Apple Share Prices over time (2014)')\n",
    "fig.show()\n",
    "\n",
    "\n"
   ]
  },
  {
   "cell_type": "code",
   "execution_count": 27,
   "metadata": {},
   "outputs": [
    {
     "data": {
      "text/html": [
       "<div>\n",
       "<style scoped>\n",
       "    .dataframe tbody tr th:only-of-type {\n",
       "        vertical-align: middle;\n",
       "    }\n",
       "\n",
       "    .dataframe tbody tr th {\n",
       "        vertical-align: top;\n",
       "    }\n",
       "\n",
       "    .dataframe thead th {\n",
       "        text-align: right;\n",
       "    }\n",
       "</style>\n",
       "<table border=\"1\" class=\"dataframe\">\n",
       "  <thead>\n",
       "    <tr style=\"text-align: right;\">\n",
       "      <th></th>\n",
       "      <th>Open</th>\n",
       "      <th>High</th>\n",
       "      <th>Low</th>\n",
       "      <th>Close</th>\n",
       "      <th>Adj Close</th>\n",
       "      <th>Volume</th>\n",
       "    </tr>\n",
       "    <tr>\n",
       "      <th>Date</th>\n",
       "      <th></th>\n",
       "      <th></th>\n",
       "      <th></th>\n",
       "      <th></th>\n",
       "      <th></th>\n",
       "      <th></th>\n",
       "    </tr>\n",
       "  </thead>\n",
       "  <tbody>\n",
       "    <tr>\n",
       "      <th>2022-01-31</th>\n",
       "      <td>308.950012</td>\n",
       "      <td>312.380005</td>\n",
       "      <td>306.369995</td>\n",
       "      <td>310.980011</td>\n",
       "      <td>310.338318</td>\n",
       "      <td>46444500</td>\n",
       "    </tr>\n",
       "    <tr>\n",
       "      <th>2022-02-01</th>\n",
       "      <td>310.410004</td>\n",
       "      <td>310.630005</td>\n",
       "      <td>305.130005</td>\n",
       "      <td>308.760010</td>\n",
       "      <td>308.122894</td>\n",
       "      <td>40950400</td>\n",
       "    </tr>\n",
       "    <tr>\n",
       "      <th>2022-02-02</th>\n",
       "      <td>309.630005</td>\n",
       "      <td>315.119995</td>\n",
       "      <td>308.880005</td>\n",
       "      <td>313.459991</td>\n",
       "      <td>312.813171</td>\n",
       "      <td>36636000</td>\n",
       "    </tr>\n",
       "    <tr>\n",
       "      <th>2022-02-03</th>\n",
       "      <td>309.489990</td>\n",
       "      <td>311.230011</td>\n",
       "      <td>299.959991</td>\n",
       "      <td>301.250000</td>\n",
       "      <td>300.628387</td>\n",
       "      <td>43730000</td>\n",
       "    </tr>\n",
       "    <tr>\n",
       "      <th>2022-02-04</th>\n",
       "      <td>300.209991</td>\n",
       "      <td>308.799988</td>\n",
       "      <td>299.970001</td>\n",
       "      <td>305.940002</td>\n",
       "      <td>305.308716</td>\n",
       "      <td>35096500</td>\n",
       "    </tr>\n",
       "  </tbody>\n",
       "</table>\n",
       "</div>"
      ],
      "text/plain": [
       "                  Open        High         Low       Close   Adj Close  \\\n",
       "Date                                                                     \n",
       "2022-01-31  308.950012  312.380005  306.369995  310.980011  310.338318   \n",
       "2022-02-01  310.410004  310.630005  305.130005  308.760010  308.122894   \n",
       "2022-02-02  309.630005  315.119995  308.880005  313.459991  312.813171   \n",
       "2022-02-03  309.489990  311.230011  299.959991  301.250000  300.628387   \n",
       "2022-02-04  300.209991  308.799988  299.970001  305.940002  305.308716   \n",
       "\n",
       "              Volume  \n",
       "Date                  \n",
       "2022-01-31  46444500  \n",
       "2022-02-01  40950400  \n",
       "2022-02-02  36636000  \n",
       "2022-02-03  43730000  \n",
       "2022-02-04  35096500  "
      ]
     },
     "execution_count": 27,
     "metadata": {},
     "output_type": "execute_result"
    }
   ],
   "source": [
    "import pandas as pd \n",
    "import yfinance as yf\n",
    "from yahoofinancials import YahooFinancials\n",
    "\n",
    "msft_df = yf.download('MSFT',start='2022-02-01',end='2022-03-01',progress=False)\n",
    "msft_df.head()"
   ]
  },
  {
   "cell_type": "code",
   "execution_count": 35,
   "metadata": {},
   "outputs": [
    {
     "name": "stdout",
     "output_type": "stream",
     "text": [
      "   calories  duration\n",
      "0       250        23\n",
      "1      1200        40\n",
      "2       250        59\n",
      "3       237        67\n"
     ]
    },
    {
     "data": {
      "text/plain": [
       "<AxesSubplot:ylabel='Frequency'>"
      ]
     },
     "execution_count": 35,
     "metadata": {},
     "output_type": "execute_result"
    },
    {
     "data": {
      "image/png": "[encoded data removed]",
      "text/plain": [
       "<Figure size 432x288 with 1 Axes>"
      ]
     },
     "metadata": {
      "needs_background": "light"
     },
     "output_type": "display_data"
    }
   ],
   "source": [
    "import pandas as pd\n",
    "import matplotlib as plt\n",
    "data = {\n",
    "    \"calories\":[250,1200,250,237],\n",
    "    \"duration\":[23,40,59,67]\n",
    "}\n",
    "df = pd.DataFrame(data)\n",
    "print(df)\n",
    "df[\"duration\"].plot(kind='hist')\n"
   ]
  },
  {
   "cell_type": "code",
   "execution_count": 3,
   "metadata": {},
   "outputs": [
    {
     "data": {
      "text/html": [
       "<div>\n",
       "<style scoped>\n",
       "    .dataframe tbody tr th:only-of-type {\n",
       "        vertical-align: middle;\n",
       "    }\n",
       "\n",
       "    .dataframe tbody tr th {\n",
       "        vertical-align: top;\n",
       "    }\n",
       "\n",
       "    .dataframe thead th {\n",
       "        text-align: right;\n",
       "    }\n",
       "</style>\n",
       "<table border=\"1\" class=\"dataframe\">\n",
       "  <thead>\n",
       "    <tr style=\"text-align: right;\">\n",
       "      <th></th>\n",
       "      <th>TSLA</th>\n",
       "      <th>MSFT</th>\n",
       "      <th>FB</th>\n",
       "    </tr>\n",
       "  </thead>\n",
       "  <tbody>\n",
       "    <tr>\n",
       "      <th>2019-01-01</th>\n",
       "      <td>66.991997</td>\n",
       "      <td>98.487762</td>\n",
       "      <td>138.050003</td>\n",
       "    </tr>\n",
       "    <tr>\n",
       "      <th>2019-01-08</th>\n",
       "      <td>66.879997</td>\n",
       "      <td>98.478096</td>\n",
       "      <td>145.389999</td>\n",
       "    </tr>\n",
       "    <tr>\n",
       "      <th>2019-01-15</th>\n",
       "      <td>60.452000</td>\n",
       "      <td>103.940002</td>\n",
       "      <td>150.039993</td>\n",
       "    </tr>\n",
       "    <tr>\n",
       "      <th>2019-01-22</th>\n",
       "      <td>59.276001</td>\n",
       "      <td>101.402046</td>\n",
       "      <td>147.470001</td>\n",
       "    </tr>\n",
       "    <tr>\n",
       "      <th>2019-01-29</th>\n",
       "      <td>62.577999</td>\n",
       "      <td>102.038948</td>\n",
       "      <td>169.250000</td>\n",
       "    </tr>\n",
       "  </tbody>\n",
       "</table>\n",
       "</div>"
      ],
      "text/plain": [
       "                 TSLA        MSFT          FB\n",
       "2019-01-01  66.991997   98.487762  138.050003\n",
       "2019-01-08  66.879997   98.478096  145.389999\n",
       "2019-01-15  60.452000  103.940002  150.039993\n",
       "2019-01-22  59.276001  101.402046  147.470001\n",
       "2019-01-29  62.577999  102.038948  169.250000"
      ]
     },
     "execution_count": 3,
     "metadata": {},
     "output_type": "execute_result"
    }
   ],
   "source": [
    "import pandas as pd\n",
    "from yahoofinancials import YahooFinancials\n",
    "assets = ['TSLA','MSFT','FB']\n",
    "yahoo_financials= YahooFinancials(assets)\n",
    "data = yahoo_financials.get_historical_price_data(start_date ='2019-01-01',end_date ='2019-12-31',time_interval ='weekly')\n",
    "prices_df = pd.DataFrame({a: {x['formatted_date']: x['adjclose'] for x in data[a]['prices']} for a in assets})\n",
    "prices_df.head()"
   ]
  },
  {
   "cell_type": "code",
   "execution_count": 13,
   "metadata": {},
   "outputs": [
    {
     "name": "stdout",
     "output_type": "stream",
     "text": [
      "[*********************100%***********************]  1 of 1 completed\n",
      "\n",
      "1 Failed download:\n",
      "- AAPL: No data found for this date range, symbol may be delisted\n",
      "Empty DataFrame\n",
      "Columns: [Open, High, Low, Close, Adj Close, Volume, ticker]\n",
      "Index: []\n",
      "[*********************100%***********************]  1 of 1 completed\n",
      "\n",
      "1 Failed download:\n",
      "- MSFT: No data found for this date range, symbol may be delisted\n",
      "Empty DataFrame\n",
      "Columns: [Open, High, Low, Close, Adj Close, Volume, ticker]\n",
      "Index: []\n"
     ]
    },
    {
     "ename": "ValueError",
     "evalue": "Value of 'x' is not the name of a column in 'data_frame'. Expected one of ['Date', 'Open', 'High', 'Low', 'Close', 'Adj Close', 'Volume', 'ticker'] but received: AAPL_x",
     "output_type": "error",
     "traceback": [
      "\u001b[1;31m---------------------------------------------------------------------------\u001b[0m",
      "\u001b[1;31mValueError\u001b[0m                                Traceback (most recent call last)",
      "\u001b[1;32mc:\\Users\\avish\\stocktrade\\pro1.ipynb Cell 5'\u001b[0m in \u001b[0;36m<cell line: 12>\u001b[1;34m()\u001b[0m\n\u001b[0;32m     <a href='vscode-notebook-cell:/c%3A/Users/avish/stocktrade/pro1.ipynb#ch0000004?line=9'>10</a>\u001b[0m     \u001b[39mprint\u001b[39m(data\u001b[39m.\u001b[39mhead())\n\u001b[0;32m     <a href='vscode-notebook-cell:/c%3A/Users/avish/stocktrade/pro1.ipynb#ch0000004?line=10'>11</a>\u001b[0m df \u001b[39m=\u001b[39mpd\u001b[39m.\u001b[39mread_csv(\u001b[39m'\u001b[39m\u001b[39mticker_AAPL.csv\u001b[39m\u001b[39m'\u001b[39m)\n\u001b[1;32m---> <a href='vscode-notebook-cell:/c%3A/Users/avish/stocktrade/pro1.ipynb#ch0000004?line=11'>12</a>\u001b[0m fig \u001b[39m=\u001b[39m px\u001b[39m.\u001b[39;49mline(df, x \u001b[39m=\u001b[39;49m \u001b[39m'\u001b[39;49m\u001b[39mAAPL_x\u001b[39;49m\u001b[39m'\u001b[39;49m, y \u001b[39m=\u001b[39;49m \u001b[39m'\u001b[39;49m\u001b[39mAAPL_y\u001b[39;49m\u001b[39m'\u001b[39;49m, title\u001b[39m=\u001b[39;49m\u001b[39m'\u001b[39;49m\u001b[39mApple Share Prices over time (2014)\u001b[39;49m\u001b[39m'\u001b[39;49m)\n\u001b[0;32m     <a href='vscode-notebook-cell:/c%3A/Users/avish/stocktrade/pro1.ipynb#ch0000004?line=12'>13</a>\u001b[0m fig\u001b[39m.\u001b[39mshow()\n",
      "File \u001b[1;32mc:\\Users\\avish\\AppData\\Local\\Programs\\Python\\Python38-32\\lib\\site-packages\\plotly\\express\\_chart_types.py:264\u001b[0m, in \u001b[0;36mline\u001b[1;34m(data_frame, x, y, line_group, color, line_dash, symbol, hover_name, hover_data, custom_data, text, facet_row, facet_col, facet_col_wrap, facet_row_spacing, facet_col_spacing, error_x, error_x_minus, error_y, error_y_minus, animation_frame, animation_group, category_orders, labels, orientation, color_discrete_sequence, color_discrete_map, line_dash_sequence, line_dash_map, symbol_sequence, symbol_map, markers, log_x, log_y, range_x, range_y, line_shape, render_mode, title, template, width, height)\u001b[0m\n\u001b[0;32m    <a href='file:///c%3A/Users/avish/AppData/Local/Programs/Python/Python38-32/lib/site-packages/plotly/express/_chart_types.py?line=215'>216</a>\u001b[0m \u001b[39mdef\u001b[39;00m \u001b[39mline\u001b[39m(\n\u001b[0;32m    <a href='file:///c%3A/Users/avish/AppData/Local/Programs/Python/Python38-32/lib/site-packages/plotly/express/_chart_types.py?line=216'>217</a>\u001b[0m     data_frame\u001b[39m=\u001b[39m\u001b[39mNone\u001b[39;00m,\n\u001b[0;32m    <a href='file:///c%3A/Users/avish/AppData/Local/Programs/Python/Python38-32/lib/site-packages/plotly/express/_chart_types.py?line=217'>218</a>\u001b[0m     x\u001b[39m=\u001b[39m\u001b[39mNone\u001b[39;00m,\n\u001b[1;32m   (...)\u001b[0m\n\u001b[0;32m    <a href='file:///c%3A/Users/avish/AppData/Local/Programs/Python/Python38-32/lib/site-packages/plotly/express/_chart_types.py?line=257'>258</a>\u001b[0m     height\u001b[39m=\u001b[39m\u001b[39mNone\u001b[39;00m,\n\u001b[0;32m    <a href='file:///c%3A/Users/avish/AppData/Local/Programs/Python/Python38-32/lib/site-packages/plotly/express/_chart_types.py?line=258'>259</a>\u001b[0m ) \u001b[39m-\u001b[39m\u001b[39m>\u001b[39m go\u001b[39m.\u001b[39mFigure:\n\u001b[0;32m    <a href='file:///c%3A/Users/avish/AppData/Local/Programs/Python/Python38-32/lib/site-packages/plotly/express/_chart_types.py?line=259'>260</a>\u001b[0m     \u001b[39m\"\"\"\u001b[39;00m\n\u001b[0;32m    <a href='file:///c%3A/Users/avish/AppData/Local/Programs/Python/Python38-32/lib/site-packages/plotly/express/_chart_types.py?line=260'>261</a>\u001b[0m \u001b[39m    In a 2D line plot, each row of `data_frame` is represented as vertex of\u001b[39;00m\n\u001b[0;32m    <a href='file:///c%3A/Users/avish/AppData/Local/Programs/Python/Python38-32/lib/site-packages/plotly/express/_chart_types.py?line=261'>262</a>\u001b[0m \u001b[39m    a polyline mark in 2D space.\u001b[39;00m\n\u001b[0;32m    <a href='file:///c%3A/Users/avish/AppData/Local/Programs/Python/Python38-32/lib/site-packages/plotly/express/_chart_types.py?line=262'>263</a>\u001b[0m \u001b[39m    \"\"\"\u001b[39;00m\n\u001b[1;32m--> <a href='file:///c%3A/Users/avish/AppData/Local/Programs/Python/Python38-32/lib/site-packages/plotly/express/_chart_types.py?line=263'>264</a>\u001b[0m     \u001b[39mreturn\u001b[39;00m make_figure(args\u001b[39m=\u001b[39;49m\u001b[39mlocals\u001b[39;49m(), constructor\u001b[39m=\u001b[39;49mgo\u001b[39m.\u001b[39;49mScatter)\n",
      "File \u001b[1;32mc:\\Users\\avish\\AppData\\Local\\Programs\\Python\\Python38-32\\lib\\site-packages\\plotly\\express\\_core.py:1948\u001b[0m, in \u001b[0;36mmake_figure\u001b[1;34m(args, constructor, trace_patch, layout_patch)\u001b[0m\n\u001b[0;32m   <a href='file:///c%3A/Users/avish/AppData/Local/Programs/Python/Python38-32/lib/site-packages/plotly/express/_core.py?line=1944'>1945</a>\u001b[0m layout_patch \u001b[39m=\u001b[39m layout_patch \u001b[39mor\u001b[39;00m {}\n\u001b[0;32m   <a href='file:///c%3A/Users/avish/AppData/Local/Programs/Python/Python38-32/lib/site-packages/plotly/express/_core.py?line=1945'>1946</a>\u001b[0m apply_default_cascade(args)\n\u001b[1;32m-> <a href='file:///c%3A/Users/avish/AppData/Local/Programs/Python/Python38-32/lib/site-packages/plotly/express/_core.py?line=1947'>1948</a>\u001b[0m args \u001b[39m=\u001b[39m build_dataframe(args, constructor)\n\u001b[0;32m   <a href='file:///c%3A/Users/avish/AppData/Local/Programs/Python/Python38-32/lib/site-packages/plotly/express/_core.py?line=1948'>1949</a>\u001b[0m \u001b[39mif\u001b[39;00m constructor \u001b[39min\u001b[39;00m [go\u001b[39m.\u001b[39mTreemap, go\u001b[39m.\u001b[39mSunburst, go\u001b[39m.\u001b[39mIcicle] \u001b[39mand\u001b[39;00m args[\u001b[39m\"\u001b[39m\u001b[39mpath\u001b[39m\u001b[39m\"\u001b[39m] \u001b[39mis\u001b[39;00m \u001b[39mnot\u001b[39;00m \u001b[39mNone\u001b[39;00m:\n\u001b[0;32m   <a href='file:///c%3A/Users/avish/AppData/Local/Programs/Python/Python38-32/lib/site-packages/plotly/express/_core.py?line=1949'>1950</a>\u001b[0m     args \u001b[39m=\u001b[39m process_dataframe_hierarchy(args)\n",
      "File \u001b[1;32mc:\\Users\\avish\\AppData\\Local\\Programs\\Python\\Python38-32\\lib\\site-packages\\plotly\\express\\_core.py:1405\u001b[0m, in \u001b[0;36mbuild_dataframe\u001b[1;34m(args, constructor)\u001b[0m\n\u001b[0;32m   <a href='file:///c%3A/Users/avish/AppData/Local/Programs/Python/Python38-32/lib/site-packages/plotly/express/_core.py?line=1401'>1402</a>\u001b[0m     args[\u001b[39m\"\u001b[39m\u001b[39mcolor\u001b[39m\u001b[39m\"\u001b[39m] \u001b[39m=\u001b[39m \u001b[39mNone\u001b[39;00m\n\u001b[0;32m   <a href='file:///c%3A/Users/avish/AppData/Local/Programs/Python/Python38-32/lib/site-packages/plotly/express/_core.py?line=1402'>1403</a>\u001b[0m \u001b[39m# now that things have been prepped, we do the systematic rewriting of `args`\u001b[39;00m\n\u001b[1;32m-> <a href='file:///c%3A/Users/avish/AppData/Local/Programs/Python/Python38-32/lib/site-packages/plotly/express/_core.py?line=1404'>1405</a>\u001b[0m df_output, wide_id_vars \u001b[39m=\u001b[39m process_args_into_dataframe(\n\u001b[0;32m   <a href='file:///c%3A/Users/avish/AppData/Local/Programs/Python/Python38-32/lib/site-packages/plotly/express/_core.py?line=1405'>1406</a>\u001b[0m     args, wide_mode, var_name, value_name\n\u001b[0;32m   <a href='file:///c%3A/Users/avish/AppData/Local/Programs/Python/Python38-32/lib/site-packages/plotly/express/_core.py?line=1406'>1407</a>\u001b[0m )\n\u001b[0;32m   <a href='file:///c%3A/Users/avish/AppData/Local/Programs/Python/Python38-32/lib/site-packages/plotly/express/_core.py?line=1408'>1409</a>\u001b[0m \u001b[39m# now that `df_output` exists and `args` contains only references, we complete\u001b[39;00m\n\u001b[0;32m   <a href='file:///c%3A/Users/avish/AppData/Local/Programs/Python/Python38-32/lib/site-packages/plotly/express/_core.py?line=1409'>1410</a>\u001b[0m \u001b[39m# the special-case and wide-mode handling by further rewriting args and/or mutating\u001b[39;00m\n\u001b[0;32m   <a href='file:///c%3A/Users/avish/AppData/Local/Programs/Python/Python38-32/lib/site-packages/plotly/express/_core.py?line=1410'>1411</a>\u001b[0m \u001b[39m# df_output\u001b[39;00m\n\u001b[0;32m   <a href='file:///c%3A/Users/avish/AppData/Local/Programs/Python/Python38-32/lib/site-packages/plotly/express/_core.py?line=1412'>1413</a>\u001b[0m count_name \u001b[39m=\u001b[39m _escape_col_name(df_output, \u001b[39m\"\u001b[39m\u001b[39mcount\u001b[39m\u001b[39m\"\u001b[39m, [var_name, value_name])\n",
      "File \u001b[1;32mc:\\Users\\avish\\AppData\\Local\\Programs\\Python\\Python38-32\\lib\\site-packages\\plotly\\express\\_core.py:1207\u001b[0m, in \u001b[0;36mprocess_args_into_dataframe\u001b[1;34m(args, wide_mode, var_name, value_name)\u001b[0m\n\u001b[0;32m   <a href='file:///c%3A/Users/avish/AppData/Local/Programs/Python/Python38-32/lib/site-packages/plotly/express/_core.py?line=1204'>1205</a>\u001b[0m         \u001b[39mif\u001b[39;00m argument \u001b[39m==\u001b[39m \u001b[39m\"\u001b[39m\u001b[39mindex\u001b[39m\u001b[39m\"\u001b[39m:\n\u001b[0;32m   <a href='file:///c%3A/Users/avish/AppData/Local/Programs/Python/Python38-32/lib/site-packages/plotly/express/_core.py?line=1205'>1206</a>\u001b[0m             err_msg \u001b[39m+\u001b[39m\u001b[39m=\u001b[39m \u001b[39m\"\u001b[39m\u001b[39m\\n\u001b[39;00m\u001b[39m To use the index, pass it in directly as `df.index`.\u001b[39m\u001b[39m\"\u001b[39m\n\u001b[1;32m-> <a href='file:///c%3A/Users/avish/AppData/Local/Programs/Python/Python38-32/lib/site-packages/plotly/express/_core.py?line=1206'>1207</a>\u001b[0m         \u001b[39mraise\u001b[39;00m \u001b[39mValueError\u001b[39;00m(err_msg)\n\u001b[0;32m   <a href='file:///c%3A/Users/avish/AppData/Local/Programs/Python/Python38-32/lib/site-packages/plotly/express/_core.py?line=1207'>1208</a>\u001b[0m \u001b[39melif\u001b[39;00m length \u001b[39mand\u001b[39;00m \u001b[39mlen\u001b[39m(df_input[argument]) \u001b[39m!=\u001b[39m length:\n\u001b[0;32m   <a href='file:///c%3A/Users/avish/AppData/Local/Programs/Python/Python38-32/lib/site-packages/plotly/express/_core.py?line=1208'>1209</a>\u001b[0m     \u001b[39mraise\u001b[39;00m \u001b[39mValueError\u001b[39;00m(\n\u001b[0;32m   <a href='file:///c%3A/Users/avish/AppData/Local/Programs/Python/Python38-32/lib/site-packages/plotly/express/_core.py?line=1209'>1210</a>\u001b[0m         \u001b[39m\"\u001b[39m\u001b[39mAll arguments should have the same length. \u001b[39m\u001b[39m\"\u001b[39m\n\u001b[0;32m   <a href='file:///c%3A/Users/avish/AppData/Local/Programs/Python/Python38-32/lib/site-packages/plotly/express/_core.py?line=1210'>1211</a>\u001b[0m         \u001b[39m\"\u001b[39m\u001b[39mThe length of column argument `df[\u001b[39m\u001b[39m%s\u001b[39;00m\u001b[39m]` is \u001b[39m\u001b[39m%d\u001b[39;00m\u001b[39m, whereas the \u001b[39m\u001b[39m\"\u001b[39m\n\u001b[1;32m   (...)\u001b[0m\n\u001b[0;32m   <a href='file:///c%3A/Users/avish/AppData/Local/Programs/Python/Python38-32/lib/site-packages/plotly/express/_core.py?line=1217'>1218</a>\u001b[0m         )\n\u001b[0;32m   <a href='file:///c%3A/Users/avish/AppData/Local/Programs/Python/Python38-32/lib/site-packages/plotly/express/_core.py?line=1218'>1219</a>\u001b[0m     )\n",
      "\u001b[1;31mValueError\u001b[0m: Value of 'x' is not the name of a column in 'data_frame'. Expected one of ['Date', 'Open', 'High', 'Low', 'Close', 'Adj Close', 'Volume', 'ticker'] but received: AAPL_x"
     ]
    }
   ],
   "source": [
    "import yfinance as yf\n",
    "import pandas as pd\n",
    "import plotly_express as px\n",
    "\n",
    "tickerStrings = ['AAPL', 'MSFT']\n",
    "for ticker in tickerStrings:\n",
    "    data = yf.download(ticker, group_by=\"Ticker\", period=\"1d\", interval=\"1m\")\n",
    "    data['ticker'] = ticker  # add this column because the dataframe doesn't contain a column with the ticker\n",
    "    data.to_csv(f'ticker_{ticker}.csv')  # ticker_AAPL.csv for example\n",
    "    print(data.head())\n",
    "df =pd.read_csv('ticker_AAPL.csv')\n",
    "fig = px.line(df, x = 'AAPL_x', y = 'AAPL_y', title='Apple Share Prices over time (2014)')\n",
    "fig.show()"
   ]
  }
 ],
 "metadata": {
  "interpreter": {
   "hash": "b1286f04e4f416023f08c7ed5f6280f1dae720e56c234ffc5553d49e398adee7"
  },
  "kernelspec": {
   "display_name": "Python 3.8.3 32-bit",
   "language": "python",
   "name": "python3"
  },
  "language_info": {
   "codemirror_mode": {
    "name": "ipython",
    "version": 3
   },
   "file_extension": ".py",
   "mimetype": "text/x-python",
   "name": "python",
   "nbconvert_exporter": "python",
   "pygments_lexer": "ipython3",
   "version": "3.8.3"
  },
  "orig_nbformat": 4
 },
 "nbformat": 4,
 "nbformat_minor": 2
}
